{
 "cells": [
  {
   "cell_type": "markdown",
   "metadata": {},
   "source": [
    "# Basenji-style data preprocessing"
   ]
  },
  {
   "cell_type": "markdown",
   "metadata": {},
   "source": [
    "### Convert CAGE and DNase bams to bigWigs"
   ]
  },
  {
   "cell_type": "code",
   "execution_count": 1,
   "metadata": {},
   "outputs": [
    {
     "name": "stdout",
     "output_type": "stream",
     "text": [
      "/pollard/home/sandyfloren/hierarchical/bin/utils/bam_cov.py:35: DeprecationWarning: Please import `gaussian_filter1d` from the `scipy.ndimage` namespace; the `scipy.ndimage.filters` namespace is deprecated and will be removed in SciPy 2.0.0.\n",
      "  from scipy.ndimage.filters import gaussian_filter1d\n",
      "Reading alignments from BAM. Done in 316s.\n",
      "Constructing multi-read CSR matrix. Done in 0s.\n"
     ]
    }
   ],
   "source": [
    "! python utils/bam_cov.py ../data/encode/cage/k562/ENCFF366MWI.bam ../data/encode/cage/k562/ENCFF366MWI.bw\n",
    "! python utils/bam_cov.py ../data/encode/cage/k562/ENCFF754FAU.bam ../data/encode/cage/k562/ENCFF754FAU.bw\n",
    "! python utils/bam_cov.py ../data/encode/dnase/k562/ENCFF257HEE.bam ../data/encode/dnase/k562/ENCFF257HEE.bw"
   ]
  },
  {
   "cell_type": "markdown",
   "metadata": {},
   "source": [
    "### Compare CAGE replicates 1 and 2"
   ]
  },
  {
   "cell_type": "code",
   "execution_count": null,
   "metadata": {},
   "outputs": [],
   "source": []
  },
  {
   "cell_type": "markdown",
   "metadata": {},
   "source": [
    "### Create 6 Mb sequences"
   ]
  },
  {
   "cell_type": "code",
   "execution_count": 5,
   "metadata": {},
   "outputs": [],
   "source": [
    "import pysam\n",
    "# Copied from basenji/basenji/genome.py\n",
    "def load_chromosomes(genome_file):\n",
    "  \"\"\" Load genome segments from either a FASTA file or\n",
    "          chromosome length table. \"\"\"\n",
    "\n",
    "  # is genome_file FASTA or (chrom,start,end) table?\n",
    "  file_fasta = (open(genome_file).readline()[0] == '>')\n",
    "\n",
    "  chrom_segments = {}\n",
    "\n",
    "  if file_fasta:\n",
    "    fasta_open = pysam.Fastafile(genome_file)\n",
    "    for i in range(len(fasta_open.references)):\n",
    "      chrom_segments[fasta_open.references[i]] = [(0, fasta_open.lengths[i])]\n",
    "    fasta_open.close()\n",
    "\n",
    "  else:\n",
    "    for line in open(genome_file):\n",
    "      a = line.split()\n",
    "      chrom_segments[a[0]] = [(0, int(a[1]))]\n",
    "\n",
    "  return chrom_segments\n",
    "\n",
    "chromosomes = ['chr' + str(i) for i in range(1, 23)] + ['chrX', 'chrY']\n",
    "chrom_segments = load_chromosomes(\"/pollard/data/vertebrate_genomes/human/hg38/hg38/hg38.fa\")\n",
    "chrom_segments = {k: v for k, v in chrom_segments.items() if k in chromosomes}"
   ]
  },
  {
   "cell_type": "code",
   "execution_count": 9,
   "metadata": {},
   "outputs": [
    {
     "data": {
      "text/plain": [
       "{'chr1': 49791,\n",
       " 'chr2': 48438,\n",
       " 'chr3': 39659,\n",
       " 'chr4': 38042,\n",
       " 'chr5': 36307,\n",
       " 'chr6': 34161,\n",
       " 'chr7': 31869,\n",
       " 'chr8': 29027,\n",
       " 'chr9': 27678,\n",
       " 'chr10': 26759,\n",
       " 'chr11': 27017,\n",
       " 'chr12': 26655,\n",
       " 'chr13': 22872,\n",
       " 'chr14': 21408,\n",
       " 'chr15': 20398,\n",
       " 'chr16': 18067,\n",
       " 'chr17': 16651,\n",
       " 'chr18': 16074,\n",
       " 'chr19': 11723,\n",
       " 'chr20': 12888,\n",
       " 'chr21': 9341,\n",
       " 'chr22': 10163,\n",
       " 'chrX': 31208,\n",
       " 'chrY': 11445}"
      ]
     },
     "execution_count": 9,
     "metadata": {},
     "output_type": "execute_result"
    }
   ],
   "source": [
    "chromosomes = ['chr' + str(i) for i in range(1, 23)] + ['chrX', 'chrY']\n",
    "num_bins_dict = {k: 0 for k in chromosomes}\n",
    "with open('../data/graphreg_data/seqs/genome_bins.bed', 'r') as infile:\n",
    "    for bin in infile:\n",
    "        chrom, _, _ = bin.split()\n",
    "        num_bins_dict[chrom] += 1\n",
    "num_bins_dict"
   ]
  },
  {
   "cell_type": "code",
   "execution_count": 8,
   "metadata": {},
   "outputs": [],
   "source": [
    "# Write files of 6Mb sequence coordinates\n",
    "# We do need to use basenji_data_read because of the conflicting pool_width btw. CAGE and DNase, etc.\n",
    "# As of now we are throwing away the end of the chromosomes instead of including it and padding it to 6 Mb\n",
    "# this creates 1463 windows\n",
    "\n",
    "window_size = 6000000\n",
    "stride = 2000000\n",
    "\n",
    "with open('../data/graphreg_data/seqs/windows_6Mb_no_gaps.bed', 'w') as file:\n",
    "    for chrom, segments in chrom_segments.items():\n",
    "        for segment in segments:\n",
    "            begin, end = segment\n",
    "            while begin + window_size <= end:\n",
    "                file.write(f'{chrom}\\t{begin}\\t{begin + window_size}\\n')\n",
    "                begin += stride"
   ]
  },
  {
   "cell_type": "code",
   "execution_count": 7,
   "metadata": {},
   "outputs": [],
   "source": [
    "# Write 5kb bins file\n",
    "binsize = 5000\n",
    "\n",
    "with open('../data/graphreg_data/seqs/genome_bins.bed', 'w') as file:\n",
    "    for chrom, segments in chrom_segments.items():\n",
    "        for segment in segments:\n",
    "            begin, end = segment\n",
    "            while begin + binsize <= end:\n",
    "                file.write(f'{chrom}\\t{begin}\\t{begin + binsize}\\n')\n",
    "                begin += binsize"
   ]
  },
  {
   "cell_type": "markdown",
   "metadata": {},
   "source": [
    "### Save bigWigs as h5"
   ]
  },
  {
   "cell_type": "code",
   "execution_count": 10,
   "metadata": {},
   "outputs": [
    {
     "name": "stdout",
     "output_type": "stream",
     "text": [
      "Targets sum: 36021629.000\n",
      "^C\n",
      "Traceback (most recent call last):\n",
      "  File \"/pollard/home/sandyfloren/hierarchical/bin/utils/basenji_data_read.py\", line 332, in <module>\n",
      "    main()\n",
      "  File \"/pollard/home/sandyfloren/hierarchical/bin/utils/basenji_data_read.py\", line 116, in main\n",
      "    seq_cov_nt = genome_cov_open.read(mseq.chr, mseq.start, mseq.end)\n",
      "                 ^^^^^^^^^^^^^^^^^^^^^^^^^^^^^^^^^^^^^^^^^^^^^^^^^^^^\n",
      "  File \"/pollard/home/sandyfloren/hierarchical/bin/utils/basenji_data_read.py\", line 308, in read\n",
      "    cov = self.cov_open.values(chrm, start, end, numpy=True).astype('float16')\n",
      "          ^^^^^^^^^^^^^^^^^^^^^^^^^^^^^^^^^^^^^^^^^^^^^^^^^^\n",
      "KeyboardInterrupt\n"
     ]
    }
   ],
   "source": [
    "! python utils/basenji_data_read.py -b ../data/encode/exclusion_list/exclusion_list_with_repeats.bed -u sum -w 5000 ../data/encode/cage/k562/ENCFF366MWI.bw ../data/graphreg_data/seqs/windows_6Mb_no_gaps.bed ../data/graphreg_data/1d/k562/cage_rep1.h5\n",
    "! python utils/basenji_data_read.py -b ../data/encode/exclusion_list/exclusion_list_with_repeats.bed -u sum -w 5000 ../data/encode/cage/k562/ENCFF754FAU.bw ../data/graphreg_data/seqs/windows_6Mb_no_gaps.bed ../data/graphreg_data/1d/k562/cage_rep2.h5\n",
    "! python utils/basenji_data_read.py -b ../data/encode/exclusion_list/exclusion_list_with_repeats.bed -u sum -w 100 ../data/encode/dnase/k562/ENCFF257HEE.bw ../data/graphreg_data/seqs/windows_6Mb_no_gaps.bed ../data/graphreg_data/1d/k562/dnase.h5\n",
    "! python utils/basenji_data_read.py -b ../data/encode/exclusion_list/exclusion_list_with_repeats.bed -u sum -w 100 ../data/encode/h3k4me3/k562/ENCFF253TOF.bigWig ../data/graphreg_data/seqs/windows_6Mb_no_gaps.bed ../data/graphreg_data/1d/k562/h3k4me3.h5\n",
    "! python utils/basenji_data_read.py -b ../data/encode/exclusion_list/exclusion_list_with_repeats.bed -u sum -w 100 ../data/encode/h3k27ac/k562/ENCFF381NDD.bigWig ../data/graphreg_data/seqs/windows_6Mb_no_gaps.bed ../data/graphreg_data/1d/k562/h3k27ac.h5"
   ]
  },
  {
   "cell_type": "code",
   "execution_count": 52,
   "metadata": {},
   "outputs": [
    {
     "data": {
      "text/plain": [
       "5748.0"
      ]
     },
     "execution_count": 52,
     "metadata": {},
     "output_type": "execute_result"
    }
   ],
   "source": [
    "import h5py\n",
    "\n",
    "cage_rep1 = h5py.File('../data/graphreg_data/1d/k562/cage_rep1.h5', 'r')\n",
    "max(cage_rep1['targets'][6])"
   ]
  },
  {
   "cell_type": "markdown",
   "metadata": {},
   "source": [
    "### Get 3d data"
   ]
  },
  {
   "cell_type": "code",
   "execution_count": null,
   "metadata": {},
   "outputs": [],
   "source": [
    "[]"
   ]
  },
  {
   "cell_type": "markdown",
   "metadata": {},
   "source": [
    "### Process 3d data with HiCDCPlus"
   ]
  },
  {
   "cell_type": "code",
   "execution_count": 53,
   "metadata": {},
   "outputs": [],
   "source": [
    "# mamba activate R\n",
    "# "
   ]
  },
  {
   "cell_type": "markdown",
   "metadata": {},
   "source": [
    "### Extract graphs from 3d data "
   ]
  },
  {
   "cell_type": "code",
   "execution_count": null,
   "metadata": {},
   "outputs": [],
   "source": []
  },
  {
   "cell_type": "markdown",
   "metadata": {},
   "source": [
    "### Save 3D data as npz"
   ]
  },
  {
   "cell_type": "code",
   "execution_count": null,
   "metadata": {},
   "outputs": [],
   "source": []
  },
  {
   "cell_type": "markdown",
   "metadata": {},
   "source": [
    "### Save seqs, 1d and 3d data as TFRecords"
   ]
  },
  {
   "cell_type": "code",
   "execution_count": null,
   "metadata": {},
   "outputs": [],
   "source": []
  },
  {
   "cell_type": "markdown",
   "metadata": {},
   "source": [
    "# Reproduce Seq-GraphReg results from Karbalayghareh et al."
   ]
  },
  {
   "cell_type": "markdown",
   "metadata": {},
   "source": [
    "### K562 cells"
   ]
  },
  {
   "cell_type": "code",
   "execution_count": null,
   "metadata": {},
   "outputs": [],
   "source": []
  },
  {
   "cell_type": "code",
   "execution_count": null,
   "metadata": {},
   "outputs": [],
   "source": [
    "! python Seq-CNN_base.py -c K562 -p $data_path -v 3,13 -t 4,14"
   ]
  },
  {
   "cell_type": "markdown",
   "metadata": {},
   "source": [
    "# Benchmark Seq-GraphReg with 1 Mb window size"
   ]
  },
  {
   "cell_type": "code",
   "execution_count": null,
   "metadata": {},
   "outputs": [],
   "source": []
  }
 ],
 "metadata": {
  "kernelspec": {
   "display_name": "Python 3",
   "language": "python",
   "name": "python3"
  },
  "language_info": {
   "codemirror_mode": {
    "name": "ipython",
    "version": 3
   },
   "file_extension": ".py",
   "mimetype": "text/x-python",
   "name": "python",
   "nbconvert_exporter": "python",
   "pygments_lexer": "ipython3",
   "version": "3.12.3"
  }
 },
 "nbformat": 4,
 "nbformat_minor": 2
}
